{
 "cells": [
  {
   "cell_type": "code",
   "execution_count": 1,
   "metadata": {},
   "outputs": [
    {
     "name": "stderr",
     "output_type": "stream",
     "text": [
      "pybullet build time: May 20 2022 19:44:17\n"
     ]
    }
   ],
   "source": [
    "from air_hockey_challenge.framework.air_hockey_challenge_wrapper import AirHockeyChallengeWrapper\n",
    "\n",
    "from air_hockey_challenge.environments.iiwas.env_hitting import AirHockeyHit\n",
    "from air_hockey_agent.agent_builder import build_agent\n",
    "import numpy as np"
   ]
  },
  {
   "cell_type": "code",
   "execution_count": 2,
   "metadata": {},
   "outputs": [],
   "source": [
    "env = AirHockeyChallengeWrapper(env=\"7dof-hit\", interpolation_order=3, debug=False)\n",
    "# policy = build_agent(env.env_info)\n",
    "policy = build_agent(env.env_info) "
   ]
  },
  {
   "cell_type": "code",
   "execution_count": 3,
   "metadata": {},
   "outputs": [
    {
     "data": {
      "text/plain": [
       "{'table': {'length': 1.948, 'width': 1.038, 'goal_width': 0.25},\n",
       " 'puck': {'radius': 0.03165},\n",
       " 'mallet': {'radius': 0.04815},\n",
       " 'n_agents': 2,\n",
       " 'robot': {'n_joints': 7,\n",
       "  'ee_desired_height': 0.1645,\n",
       "  'joint_vel_limit': array([[-1.48352986, -1.48352986, -1.74532925, -1.30899694, -2.26892803,\n",
       "          -2.35619449, -2.35619449],\n",
       "         [ 1.48352986,  1.48352986,  1.74532925,  1.30899694,  2.26892803,\n",
       "           2.35619449,  2.35619449]]),\n",
       "  'joint_acc_limit': array([[-14.83529864, -14.83529864, -17.45329252, -13.08996939,\n",
       "          -22.68928028, -23.5619449 , -23.5619449 ],\n",
       "         [ 14.83529864,  14.83529864,  17.45329252,  13.08996939,\n",
       "           22.68928028,  23.5619449 ,  23.5619449 ]]),\n",
       "  'base_frame': [array([[ 1.  ,  0.  ,  0.  , -1.51],\n",
       "          [ 0.  ,  1.  ,  0.  ,  0.  ],\n",
       "          [ 0.  ,  0.  ,  1.  , -0.1 ],\n",
       "          [ 0.  ,  0.  ,  0.  ,  1.  ]]),\n",
       "   array([[-1.  ,  0.  ,  0.  ,  1.51],\n",
       "          [ 0.  , -1.  ,  0.  ,  0.  ],\n",
       "          [ 0.  ,  0.  ,  1.  , -0.1 ],\n",
       "          [ 0.  ,  0.  ,  0.  ,  1.  ]])],\n",
       "  'universal_height': 0.0645,\n",
       "  'control_frequency': 50,\n",
       "  'joint_pos_limit': array([[-2.96706, -2.0944 , -2.96706, -2.0944 , -2.96706, -2.0944 ,\n",
       "          -3.05433],\n",
       "         [ 2.96706,  2.0944 ,  2.96706,  2.0944 ,  2.96706,  2.0944 ,\n",
       "           3.05433]]),\n",
       "  'robot_model': <mujoco._structs.MjModel at 0x7f4526d94af0>,\n",
       "  'robot_data': <mujoco._structs.MjData at 0x7f4526d94770>},\n",
       " 'puck_pos_ids': [0, 1, 2],\n",
       " 'puck_vel_ids': [3, 4, 5],\n",
       " 'joint_pos_ids': [6, 7, 8, 9, 10, 11, 12],\n",
       " 'joint_vel_ids': [13, 14, 15, 16, 17, 18, 19],\n",
       " 'opponent_ee_ids': [20, 21, 22],\n",
       " 'dt': 0.02,\n",
       " 'rl_info': <mushroom_rl.core.environment.MDPInfo at 0x7f4614cfbe50>,\n",
       " 'constraints': <air_hockey_challenge.constraints.constraints.ConstraintList at 0x7f4526d8a5b0>,\n",
       " 'env_name': '7dof-hit'}"
      ]
     },
     "execution_count": 3,
     "metadata": {},
     "output_type": "execute_result"
    }
   ],
   "source": [
    "env.env_info"
   ]
  },
  {
   "cell_type": "code",
   "execution_count": 4,
   "metadata": {},
   "outputs": [
    {
     "data": {
      "text/plain": [
       "array([   0.        ,   -1.        ,   -3.14159265,  -20.        ,\n",
       "        -20.        , -100.        ,   -2.96706   ,   -2.0944    ,\n",
       "         -2.96706   ,   -2.0944    ,   -2.96706   ,   -2.0944    ,\n",
       "         -3.05433   ,   -1.48352986,   -1.48352986,   -1.74532925,\n",
       "         -1.30899694,   -2.26892803,   -2.35619449,   -2.35619449,\n",
       "          1.5       ,   -1.5       ,   -1.5       ])"
      ]
     },
     "execution_count": 4,
     "metadata": {},
     "output_type": "execute_result"
    }
   ],
   "source": [
    "env.env_info['rl_info'].observation_space.low"
   ]
  },
  {
   "cell_type": "code",
   "execution_count": 651,
   "metadata": {},
   "outputs": [],
   "source": [
    "state, done = env.reset(), False\n",
    "env.render()\n"
   ]
  },
  {
   "cell_type": "code",
   "execution_count": 6,
   "metadata": {},
   "outputs": [],
   "source": [
    "action = policy.draw_action(np.array(state))\n",
    "\n",
    "# Perform action\n",
    "next_state, reward, done, _ = env.step(action)\n",
    "env.render()"
   ]
  },
  {
   "cell_type": "code",
   "execution_count": 7,
   "metadata": {},
   "outputs": [],
   "source": [
    "from air_hockey_challenge.utils.kinematics import inverse_kinematics\n",
    "import numpy as np\n"
   ]
  },
  {
   "cell_type": "code",
   "execution_count": 8,
   "metadata": {},
   "outputs": [
    {
     "data": {
      "text/plain": [
       "0.1645"
      ]
     },
     "execution_count": 8,
     "metadata": {},
     "output_type": "execute_result"
    }
   ],
   "source": [
    "env.env_info['robot']['ee_desired_height']"
   ]
  },
  {
   "cell_type": "code",
   "execution_count": 9,
   "metadata": {},
   "outputs": [
    {
     "data": {
      "text/plain": [
       "array([[-0.7    , -0.2    ],\n",
       "       [-0.39105,  0.39105]])"
      ]
     },
     "execution_count": 9,
     "metadata": {},
     "output_type": "execute_result"
    }
   ],
   "source": [
    "env.base_env.hit_range"
   ]
  },
  {
   "cell_type": "code",
   "execution_count": 10,
   "metadata": {},
   "outputs": [],
   "source": [
    "p1=np.array([-0.7,-0.39105,0]) + [1.51,0,0.1645]\n",
    "p2=np.array([-0.7,0.39105,0]) + [1.51,0,0.1645]\n",
    "p3=np.array([-0.2,-0.39105,0]) + [1.51,0,0.1645]\n",
    "p4=np.array([-0.2,0.39105,0]) + [1.51,0,0.1645]"
   ]
  },
  {
   "cell_type": "code",
   "execution_count": 11,
   "metadata": {},
   "outputs": [
    {
     "name": "stdout",
     "output_type": "stream",
     "text": [
      "[ 0.81    -0.39105  0.1645 ]\n",
      "[0.81    0.39105 0.1645 ]\n",
      "[ 1.31    -0.39105  0.1645 ]\n",
      "[1.31    0.39105 0.1645 ]\n"
     ]
    }
   ],
   "source": [
    "print(p1)\n",
    "print(p2)\n",
    "print(p3)\n",
    "print(p4)"
   ]
  },
  {
   "cell_type": "code",
   "execution_count": 468,
   "metadata": {},
   "outputs": [],
   "source": [
    "p1= np.array([0.65,-0.39,0.1654])\n",
    "p2= np.array([0.65,0.39,0.1654])\n",
    "p3= np.array([1.31,-0.39,0.1654])\n",
    "p4= np.array([1.31,0.39,0.1654])\n",
    "\n",
    "p5 = np.array([1.0,-0.39,0.1654])\n",
    "p6 = np.array([1.0,0.39,0.1654]) "
   ]
  },
  {
   "cell_type": "code",
   "execution_count": 652,
   "metadata": {},
   "outputs": [],
   "source": [
    "angle_min = np.zeros((7)) + np.inf\n",
    "angle_max = np.zeros((7)) - np.inf\n",
    "\n",
    "vel_min = np.zeros((7)) + np.inf\n",
    "vel_max = np.zeros((7)) - np.inf"
   ]
  },
  {
   "cell_type": "code",
   "execution_count": 794,
   "metadata": {},
   "outputs": [
    {
     "name": "stdout",
     "output_type": "stream",
     "text": [
      "[-0.40476327 -0.20591463 -0.25040716 -1.84715099 -0.28212878 -0.30128033\n",
      " -0.10303726]\n",
      "[ 0.16055371  1.19900776  0.37962941 -0.92631058  0.3784197   1.19376235\n",
      " -0.01559517]\n",
      "[-37.91439637  -0.6722146  -27.08600584  -2.03318772  -5.56511694\n",
      "  -9.53569044  -5.03137651]\n",
      "[26.11820054  2.07900234 38.40415028  2.22009052 22.74761576  7.13230693\n",
      "  4.01165734]\n"
     ]
    }
   ],
   "source": [
    "\n",
    "des_pos = p4\n",
    "# des_pos = [0.65,-0.39,0.1654]\n",
    "\n",
    "state = next_state\n",
    "action = np.zeros((2,7))\n",
    "_,x = inverse_kinematics(policy.robot_model, policy.robot_data,des_pos)\n",
    "des_v = np.array([0,0,0,0,0,0])\n",
    "from air_hockey_challenge.utils.kinematics import jacobian\n",
    "z = jacobian(policy.robot_model, policy.robot_data,policy.get_joint_pos(state))\n",
    "z_=np.linalg.pinv(z)\n",
    "v_ = des_v@z_.T\n",
    "action = np.array([x,v_])\n",
    "next_state, reward, done, _ = env.step(action)\n",
    "env.render()\n",
    "state = next_state\n",
    "pos = state[6:13]\n",
    "vel =  state[13:20]\n",
    "angle_min[np.where(pos<angle_min)] = pos[np.where(pos<angle_min)]\n",
    "angle_max[np.where(pos>angle_max)] = pos[np.where(pos>angle_max)]\n",
    "\n",
    "vel_min[np.where(vel<vel_min)] = vel[np.where(vel<vel_min)]\n",
    "vel_max[np.where(vel>vel_max)] = vel[np.where(vel>vel_max)]\n",
    "\n",
    "print(angle_min)\n",
    "print(angle_max)\n",
    "print(vel_min)\n",
    "print(vel_max)"
   ]
  },
  {
   "cell_type": "code",
   "execution_count": 795,
   "metadata": {},
   "outputs": [
    {
     "name": "stdout",
     "output_type": "stream",
     "text": [
      "[-0.40476327 -0.20591463 -0.25040716 -1.84715099 -0.28212878 -0.30128033\n",
      " -0.10303726]\n",
      "[ 0.16055371  1.19900776  0.37962941 -0.92631058  0.3784197   1.19376235\n",
      " -0.01559517]\n",
      "[-37.91439637  -0.6722146  -27.08600584  -2.03318772  -5.56511694\n",
      "  -9.53569044  -5.03137651]\n",
      "[26.11820054  2.07900234 38.40415028  2.22009052 22.74761576  7.13230693\n",
      "  4.01165734]\n"
     ]
    }
   ],
   "source": [
    "print(angle_min)\n",
    "print(angle_max)\n",
    "print(vel_min)                                          #ignore vel limits\n",
    "print(vel_max)"
   ]
  },
  {
   "cell_type": "code",
   "execution_count": 800,
   "metadata": {},
   "outputs": [
    {
     "data": {
      "text/plain": [
       "array([2.80650629, 0.89539224, 2.58743059, 3.02071058, 2.5886403 ,\n",
       "       0.90063765, 3.06992517])"
      ]
     },
     "execution_count": 800,
     "metadata": {},
     "output_type": "execute_result"
    }
   ],
   "source": [
    "env.env_info['robot']['joint_pos_limit'][1] - angle_max"
   ]
  }
 ],
 "metadata": {
  "kernelspec": {
   "display_name": "Python 3.8.16 ('challenge')",
   "language": "python",
   "name": "python3"
  },
  "language_info": {
   "codemirror_mode": {
    "name": "ipython",
    "version": 3
   },
   "file_extension": ".py",
   "mimetype": "text/x-python",
   "name": "python",
   "nbconvert_exporter": "python",
   "pygments_lexer": "ipython3",
   "version": "3.8.16"
  },
  "orig_nbformat": 4,
  "vscode": {
   "interpreter": {
    "hash": "6100d8334917db35c4ec7cf716c3100bfc66eb35e85e153ba7e378d404aaa54d"
   }
  }
 },
 "nbformat": 4,
 "nbformat_minor": 2
}
